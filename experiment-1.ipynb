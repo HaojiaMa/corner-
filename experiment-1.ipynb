{
 "cells": [
  {
   "cell_type": "markdown",
   "metadata": {},
   "source": [
    "# Ontology-Based Corner Case Generation and Detection\n",
    "\n",
    "Make use of the classical generate-and-test approach to automatically generating and detecting corner cases at the ontology-level."
   ]
  },
  {
   "cell_type": "markdown",
   "metadata": {},
   "source": [
    "## Prelude"
   ]
  },
  {
   "cell_type": "code",
   "execution_count": 1,
   "metadata": {},
   "outputs": [
    {
     "name": "stderr",
     "output_type": "stream",
     "text": [
      "* Owlready2 * Warning: optimized Cython parser module 'owlready2_optimized' is not available, defaulting to slower Python implementation\n"
     ]
    }
   ],
   "source": [
    "from tqdm import tqdm\n",
    "\n",
    "import matplotlib as mpl\n",
    "import matplotlib.pyplot as plt\n",
    "import matplotlib.patches as patches \n",
    "import random\n",
    "import tabulate\n",
    "\n",
    "%matplotlib inline\n",
    "mpl.rcParams['figure.figsize'] = [8, 8]\n",
    "\n",
    "from cc_gen.variation import *\n",
    "from cc_gen.generator import *\n",
    "from cc_gen.root_domain import *\n",
    "from cc_gen.plausibility_filters import *\n",
    "\n",
    "def shuffled(list):\n",
    "    \"\"\" create a permutation of input list \"\"\"\n",
    "    l = list.copy()\n",
    "    random.shuffle(l)\n",
    "    return l\n",
    "\n",
    "def setup_output_folders(name, delete_existing=False):\n",
    "    \"\"\" create output folders, possibly delete pre-existing ones \"\"\"\n",
    "    import os\n",
    "    import shutil\n",
    "    if delete_existing:\n",
    "        shutil.rmtree(f'./{name}', ignore_errors=True)\n",
    "    os.makedirs(f'./{name}/domains', exist_ok=True)\n",
    "    os.makedirs(f'./{name}/scenes', exist_ok=True)"
   ]
  },
  {
   "cell_type": "markdown",
   "metadata": {},
   "source": [
    "## The Domain Model"
   ]
  },
  {
   "cell_type": "markdown",
   "metadata": {},
   "source": [
    "Define characterization concepts for this experiment."
   ]
  },
  {
   "cell_type": "code",
   "execution_count": 2,
   "metadata": {},
   "outputs": [],
   "source": [
    "def create_characterizations(ontology):\n",
    "    with ontology:\n",
    "        class Moving(ontology.Entity):\n",
    "            pass\n",
    "\n",
    "        # entity is moving it has a non-zero velocity\n",
    "        Imp('moving_rule').set_as_rule(\"\"\"\n",
    "            has_velocity(?e, ?v), greaterThan(?v, 0) -> Moving(?e)\n",
    "        \"\"\")\n",
    "\n",
    "        \n",
    "        class OnTheLeft(ontology.Entity):\n",
    "            pass\n",
    "        \n",
    "        # swrl rule:\n",
    "        # entity is on the left (of the ego-car) if its \n",
    "        # lateral distance is less than that of the ego-car \n",
    "        Imp('on_the_left_rule').set_as_rule(\"\"\"\n",
    "            EgoCar(?x),\n",
    "            has_lateral_distance(?x, ?ego_lat),\n",
    "            \n",
    "            Entity(?e),\n",
    "            has_lateral_distance(?e, ?l),\n",
    "            \n",
    "            lessThan(?l, ?ego_lat) -> OnTheLeft(?e)\n",
    "        \"\"\")\n",
    "        \n",
    "        \n",
    "        class OnTheRight(ontology.Entity):\n",
    "            pass\n",
    "        \n",
    "        # swrl rule:\n",
    "        # entity is on the right (of the ego-car) if its\n",
    "        # lateral distance is greater than that of the ego-car\n",
    "        Imp('on_the_right_rule').set_as_rule(\"\"\"\n",
    "            EgoCar(?x),\n",
    "            has_lateral_distance(?x, ?ego_lat),\n",
    "            \n",
    "            Entity(?e),\n",
    "            has_lateral_distance(?e, ?l),\n",
    "            \n",
    "            greaterThan(?l,?ego_lat) -> OnTheRight(?e)\n",
    "        \"\"\")\n",
    "\n",
    "        \n",
    "        class Crossing(ontology.Entity):\n",
    "            equivalent_to = [(ontology.OnTheLeft  & \n",
    "                              ontology.has_direction.some(OneOf([ontology.north_east, \n",
    "                                                                 ontology.east, \n",
    "                                                                 ontology.south_east]))) |\n",
    "                             (ontology.OnTheRight & \n",
    "                              ontology.has_direction.some(OneOf([ontology.south_west, \n",
    "                                                                 ontology.west, \n",
    "                                                                 ontology.north_west])))]\n",
    "        \n",
    "        \n",
    "        class AtRelevantLocation(ontology.Entity):\n",
    "            pass\n",
    "\n",
    "        # swrl rule:\n",
    "        # entity is at a relevant location if its within an \n",
    "        # 1.5 eog-car's length radius\n",
    "        Imp('at_relevant_location_long_rule').set_as_rule(\"\"\"            \n",
    "            EgoCar(?x),\n",
    "            has_length(?x, ?l),\n",
    "            multiply(?l15, ?l, 1.5),\n",
    "            \n",
    "            has_euclidean_distance(?e, ?d),\n",
    "            greaterThan(?d, 0),\n",
    "            \n",
    "            lessThanOrEqual(?d, ?l15) -> AtRelevantLocation(?e)            \n",
    "        \"\"\")\n",
    "\n",
    "        \n",
    "        class Occluded(ontology.Entity):\n",
    "            equivalent_to = [ontology.has_reduced_height.min(1)]\n",
    "            pass\n",
    "        \n",
    "\n",
    "        class MostlyOccluded(ontology.Occluded):\n",
    "            pass\n",
    "\n",
    "        # swrl rule:\n",
    "        # entity is mostly occluded if less than 13%  \n",
    "        # but a positive rest of its height remains visible \n",
    "        Imp('mostly_occluded_rule').set_as_rule(\"\"\"\n",
    "            Occluded(?e),\n",
    "            has_reduced_height(?e, ?v), \n",
    "            has_height(?e, ?h),\n",
    "            multiply(?f, ?h, 0.13),\n",
    "            lessThanOrEqual(?v, ?f),\n",
    "            greaterThan(?v, 0) -> MostlyOccluded(?e)\n",
    "        \"\"\")\n",
    "\n",
    "        class CompletelyOccluded(ontology.Occluded):\n",
    "            pass\n",
    "\n",
    "        # swrl rule:\n",
    "        # entity is completely occluded if its visible\n",
    "        # height is zero or negative\n",
    "        Imp('completely_occluded_rule').set_as_rule(\"\"\"\n",
    "            Occluded(?e),\n",
    "            has_reduced_height(?e, ?v), \n",
    "            lessThanOrEqual(?v, 0) -> CompletelyOccluded(?e)\n",
    "        \"\"\")"
   ]
  },
  {
   "cell_type": "markdown",
   "metadata": {},
   "source": [
    "### Define Corner Case\n",
    "Define corner cases to be situations in which pedestrians are occluded and moving within the relevant location"
   ]
  },
  {
   "cell_type": "code",
   "execution_count": 3,
   "metadata": {},
   "outputs": [],
   "source": [
    "def create_app_domain(ontology):\n",
    "    create_root_domain(ontology)\n",
    "    create_characterizations(ontology)\n",
    "    with ontology:        \n",
    "        class CornerCase(ontology.Pedestrian):\n",
    "            equivalent_to = [      \n",
    "                ontology.Pedestrian &\n",
    "                ontology.AtRelevantLocation & \n",
    "                (ontology.Crossing | ontology.Occluded)\n",
    "            ]"
   ]
  },
  {
   "cell_type": "markdown",
   "metadata": {},
   "source": [
    "## Define Parameter Space/Variation Dimensions"
   ]
  },
  {
   "cell_type": "markdown",
   "metadata": {},
   "source": [
    "In this experiment the attribute ranges are given as follows"
   ]
  },
  {
   "cell_type": "code",
   "execution_count": 4,
   "metadata": {},
   "outputs": [
    {
     "data": {
      "text/html": [
       "<table>\n",
       "<tbody>\n",
       "<tr><td>range of lateral distances     </td><td>0.5 to 4.5                                        </td></tr>\n",
       "<tr><td>range of longitudinal distances</td><td>0.5 to 8.5                                        </td></tr>\n",
       "<tr><td>range of directions            </td><td>[&#x27;north&#x27;, &#x27;west&#x27;, &#x27;south&#x27;, &#x27;east&#x27;]                </td></tr>\n",
       "<tr><td>range of car speed             </td><td>[0, 5, 10, 15, 20, 25, 30, 35, 40]                </td></tr>\n",
       "<tr><td>range of car width             </td><td>[1.8]                                             </td></tr>\n",
       "<tr><td>range of car length            </td><td>[4.5]                                             </td></tr>\n",
       "<tr><td>range of car height            </td><td>[1.6]                                             </td></tr>\n",
       "<tr><td>range of pedestrian speed      </td><td>[0, 1, 2, 3, 4, 5, 6, 7, 8, 9, 10, 11, 12, 13, 14]</td></tr>\n",
       "<tr><td>range of pedestrian width      </td><td>[0.5]                                             </td></tr>\n",
       "<tr><td>range of pedestrian length     </td><td>[0.3]                                             </td></tr>\n",
       "<tr><td>range of pedestrian height     </td><td>[1.7]                                             </td></tr>\n",
       "</tbody>\n",
       "</table>"
      ],
      "text/plain": [
       "'<table>\\n<tbody>\\n<tr><td>range of lateral distances     </td><td>0.5 to 4.5                                        </td></tr>\\n<tr><td>range of longitudinal distances</td><td>0.5 to 8.5                                        </td></tr>\\n<tr><td>range of directions            </td><td>[&#x27;north&#x27;, &#x27;west&#x27;, &#x27;south&#x27;, &#x27;east&#x27;]                </td></tr>\\n<tr><td>range of car speed             </td><td>[0, 5, 10, 15, 20, 25, 30, 35, 40]                </td></tr>\\n<tr><td>range of car width             </td><td>[1.8]                                             </td></tr>\\n<tr><td>range of car length            </td><td>[4.5]                                             </td></tr>\\n<tr><td>range of car height            </td><td>[1.6]                                             </td></tr>\\n<tr><td>range of pedestrian speed      </td><td>[0, 1, 2, 3, 4, 5, 6, 7, 8, 9, 10, 11, 12, 13, 14]</td></tr>\\n<tr><td>range of pedestrian width      </td><td>[0.5]                                             </td></tr>\\n<tr><td>range of pedestrian length     </td><td>[0.3]                                             </td></tr>\\n<tr><td>range of pedestrian height     </td><td>[1.7]                                             </td></tr>\\n</tbody>\\n</table>'"
      ]
     },
     "execution_count": 4,
     "metadata": {},
     "output_type": "execute_result"
    }
   ],
   "source": [
    "overview_table = []\n",
    "\n",
    "distances_lat = [round(.5 + .2*i, 1) for i in range(21)]\n",
    "overview_table.append([\"range of lateral distances\", f\"{min(distances_lat)} to {max(distances_lat)}\"])\n",
    "\n",
    "distances_long = [round(.5 + .4*i, 1) for i in range(21)]\n",
    "overview_table.append([\"range of longitudinal distances\", f\"{min(distances_long)} to {max(distances_long)}\"])\n",
    "\n",
    "\n",
    "ortho_dirs = [Direction.North, Direction.West, Direction.South, Direction.East]\n",
    "overview_table.append([\"range of directions\", f\"{ortho_dirs}\"])\n",
    "\n",
    "\n",
    "car_speeds = [round(5 * i, 1) for i in range(9)]\n",
    "overview_table.append([\"range of car speed\", f\"{car_speeds}\"])\n",
    "\n",
    "car_widths = [1.8]\n",
    "overview_table.append([\"range of car width\", f\"{car_widths}\"])\n",
    "\n",
    "car_lengths = [4.5]\n",
    "overview_table.append([\"range of car length\", f\"{car_lengths}\"])\n",
    "\n",
    "car_heights = [1.6] \n",
    "overview_table.append([\"range of car height\", f\"{car_heights}\"])\n",
    "\n",
    "\n",
    "ped_speeds = [i for i in range(15)]\n",
    "overview_table.append([\"range of pedestrian speed\", f\"{ped_speeds}\"])\n",
    "\n",
    "ped_widths = [0.5]\n",
    "overview_table.append([\"range of pedestrian width\", f\"{ped_widths}\"])\n",
    "\n",
    "ped_lengths = [0.3]\n",
    "overview_table.append([\"range of pedestrian length\", f\"{ped_lengths}\"])\n",
    "\n",
    "ped_heights = [1.7] \n",
    "overview_table.append([\"range of pedestrian height\", f\"{ped_heights}\"])\n",
    "\n",
    "tabulate.tabulate(overview_table, tablefmt='html') "
   ]
  },
  {
   "cell_type": "markdown",
   "metadata": {},
   "source": [
    "Using the ranges as defined above, the parameter space is given as follows:"
   ]
  },
  {
   "cell_type": "code",
   "execution_count": 5,
   "metadata": {},
   "outputs": [],
   "source": [
    "variations = [\n",
    "    *[EntityVariation(\n",
    "        kind=Kind.Pedestrian,\n",
    "        name=f'ped_{i}',\n",
    "        schema=VariationSchema(\n",
    "            velocity=ped_speeds,\n",
    "            orientation=shuffled(ortho_dirs),\n",
    "            width=ped_widths,\n",
    "            length=ped_lengths,\n",
    "            height=shuffled(ped_heights),\n",
    "            distance_lat=shuffled(distances_lat),\n",
    "            distance_long=shuffled(distances_long)\n",
    "        )\n",
    "    ) for i in range(4)],\n",
    "\n",
    "    *[EntityVariation(\n",
    "        kind=Kind.Vehicle,\n",
    "        name=f'car_{i}',\n",
    "        schema=VariationSchema(\n",
    "            velocity=[0],\n",
    "            orientation=[Direction.North],\n",
    "            width=car_widths,\n",
    "            length=car_lengths,\n",
    "            height=shuffled(car_heights),\n",
    "            distance_lat=[3.5],\n",
    "            distance_long=shuffled([(i-1) * 6 + 3])\n",
    "        )\n",
    "    ) for i in range(3)],\n",
    "    \n",
    "    # ego car\n",
    "    EntityVariation(\n",
    "        kind=Kind.Ego,\n",
    "        name='ego',\n",
    "        schema=VariationSchema(\n",
    "            velocity=shuffled(car_speeds[1:]),\n",
    "            orientation=[Direction.North],\n",
    "            width=car_widths,\n",
    "            length=car_lengths,\n",
    "            height=shuffled(car_heights),\n",
    "            distance_lat=[0],\n",
    "            distance_long=[0]\n",
    "        )\n",
    "    )\n",
    "]"
   ]
  },
  {
   "cell_type": "markdown",
   "metadata": {},
   "source": [
    "Specify the variation space. Make sure that there is only one ego vehicle, that no individuals overlap, and that movement of cars and pedestrians is plausible."
   ]
  },
  {
   "cell_type": "code",
   "execution_count": 6,
   "metadata": {},
   "outputs": [],
   "source": [
    " variation_dimensions = VariationDimensions(filters=[no_overlap, left_hand_contra_car], variations=variations)"
   ]
  },
  {
   "cell_type": "markdown",
   "metadata": {},
   "source": [
    "### Generate Scenes\n",
    "\n",
    "Note that to save some time, a sample of 500 scenes are drawn. To sample some scenes, set the parameter `max_tries` for the generator."
   ]
  },
  {
   "cell_type": "code",
   "execution_count": 7,
   "metadata": {},
   "outputs": [
    {
     "name": "stderr",
     "output_type": "stream",
     "text": [
      "726it [01:48,  6.71it/s]"
     ]
    },
    {
     "name": "stdout",
     "output_type": "stream",
     "text": [
      "found 47 corner cases in 49 combinations (95.9%)\n"
     ]
    },
    {
     "name": "stderr",
     "output_type": "stream",
     "text": [
      "\n"
     ]
    }
   ],
   "source": [
    "BASE_IRI = \"https://www.qualityminds.de/ontologies/2020/kiab/ap22/cc-gen\"\n",
    "\n",
    "name = 'experiment-1'\n",
    "setup_output_folders(name, delete_existing=True)\n",
    "\n",
    "generator = SceneGenerator(variation_dimensions, domain_factory=create_app_domain, base_iri=BASE_IRI)\n",
    "r = 0\n",
    "c = 0\n",
    "\n",
    "for result in tqdm(generator):\n",
    "    if result:\n",
    "        onto, scene = result\n",
    "        r += 1\n",
    "        if onto.CornerCase.instances():\n",
    "            c += 1\n",
    "            generator.save_as_xml(f'{name}/domains/rdf-{r:04}.rdf.xml', onto)\n",
    "            generator.save_as_png(f'{name}/scenes/scene-{r:04}.png', scene, onto)\n",
    "            \n",
    "f = round(c / r * 100, 1)\n",
    "print(f\"found {c} corner cases in {r} combinations ({f}%)\")"
   ]
  },
  {
   "cell_type": "code",
   "execution_count": null,
   "metadata": {},
   "outputs": [],
   "source": []
  }
 ],
 "metadata": {
  "kernelspec": {
   "display_name": "Python 3",
   "language": "python",
   "name": "python3"
  },
  "language_info": {
   "codemirror_mode": {
    "name": "ipython",
    "version": 3
   },
   "file_extension": ".py",
   "mimetype": "text/x-python",
   "name": "python",
   "nbconvert_exporter": "python",
   "pygments_lexer": "ipython3",
   "version": "3.7.5"
  }
 },
 "nbformat": 4,
 "nbformat_minor": 4
}
